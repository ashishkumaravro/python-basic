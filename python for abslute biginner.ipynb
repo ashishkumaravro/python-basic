{
 "cells": [
  {
   "cell_type": "markdown",
   "id": "88453040",
   "metadata": {},
   "source": [
    "#### 1 operators"
   ]
  },
  {
   "cell_type": "code",
   "execution_count": 7,
   "id": "71a5aaaf",
   "metadata": {},
   "outputs": [
    {
     "name": "stdout",
     "output_type": "stream",
     "text": [
      "The value of 3 + 5 = 8\n",
      "The value of 3 - 5 = -2\n",
      "The value of 3 * 5 = 15\n",
      "The value of 3 / 5 = 0.6\n",
      "The value of 3 // 5 = 0\n",
      "The value of 3 % 5 = 3\n",
      "This is a \"\" \n",
      "\n",
      "This is a multiline\n",
      "Hello, my name is ashish\n",
      "I started this python for abslute biginner\n",
      "because, In pynative exercise, input output,\n",
      "there is a problem about text file & I didn't \n",
      "solve this problem. So, i desided to start this \n",
      "playlist again.\n",
      "\n",
      "\n"
     ]
    }
   ],
   "source": [
    "print(\"The value of 3 + 5 =\", 3+5)\n",
    "print(\"The value of 3 - 5 =\", 3-5)\n",
    "print(\"The value of 3 * 5 =\", 3*5)\n",
    "print(\"The value of 3 / 5 =\", 3/5)\n",
    "print(\"The value of 3 // 5 =\", 3//5)\n",
    "print(\"The value of 3 % 5 =\", 3%5)\n",
    "\n",
    "print(\"This is a \\\"\\\" \")\n",
    "mls =\"\"\"\n",
    "This is a multiline\n",
    "Hello, my name is ashish\n",
    "I started this python for abslute biginner\n",
    "because, In pynative exercise, input output,\n",
    "there is a problem about text file & I didn't \n",
    "solve this problem. So, i desided to start this \n",
    "playlist again.\n",
    "\n",
    "\"\"\"\n",
    "print(mls)"
   ]
  },
  {
   "cell_type": "markdown",
   "id": "8cd60ae4",
   "metadata": {},
   "source": [
    "#### 2 more about string"
   ]
  },
  {
   "cell_type": "code",
   "execution_count": 11,
   "id": "a40ca4c0",
   "metadata": {},
   "outputs": [
    {
     "name": "stdout",
     "output_type": "stream",
     "text": [
      "this is a string to the right\n",
      "this is a print statement 1 this is a print statement 2\n",
      "this this this this this this this this this this this this this this this this this this this this this this this this this this this this this this this this this this this this this this this this this this this this this this this this this this \n"
     ]
    }
   ],
   "source": [
    "print(\"%s to the right\"%('this is a string'))\n",
    "print('this is a print statement 1', end = \" \")\n",
    "print('this is a print statement 2')\n",
    "print(\"this \"* 50) # "
   ]
  },
  {
   "cell_type": "markdown",
   "id": "02c15469",
   "metadata": {},
   "source": [
    "####  3 lsit"
   ]
  },
  {
   "cell_type": "code",
   "execution_count": 15,
   "id": "b2ffd672",
   "metadata": {},
   "outputs": [
    {
     "name": "stdout",
     "output_type": "stream",
     "text": [
      "lemua\n",
      "Asmatunnesa girls college\n",
      "['Bamna Govt.', 'Asmatunnesa girls college', 'BUET']\n",
      "['Asmatunnesa girls college', 'BUET']\n"
     ]
    }
   ],
   "source": [
    "college = ['Bamna Govt.', 'lemua', \"BUET\"]\n",
    "print(college[1])\n",
    "college[1] = 'Asmatunnesa girls college'\n",
    "print(college[1])\n",
    "print(college)\n",
    "print(college[1:3])"
   ]
  },
  {
   "cell_type": "markdown",
   "id": "8579f446",
   "metadata": {},
   "source": [
    "#### 4 list indexing and add items in list"
   ]
  },
  {
   "cell_type": "code",
   "execution_count": 21,
   "id": "7c8fcb66",
   "metadata": {},
   "outputs": [
    {
     "name": "stdout",
     "output_type": "stream",
     "text": [
      "['table', 'chair', 'light', 'microphone', 'fan', 'bed', 'sofa', 'window']\n",
      "['table', 'chair', 'light', 'microphone', 'fan', 'bed', 'sofa', 'window', 'pillow', 'tubelilght', 'door']\n",
      "8\n",
      "window\n",
      "bed\n"
     ]
    }
   ],
   "source": [
    "list1 = ['table', 'chair', 'light', 'fan', 'bed', 'sofa', 'window']\n",
    "list1.insert(3, 'microphone')\n",
    "print(list1)\n",
    "print(list1 + ['pillow', 'tubelilght', 'door'])\n",
    "print(len(list1))\n",
    "print(max(list1))\n",
    "print(min(list1))"
   ]
  },
  {
   "cell_type": "markdown",
   "id": "e2495295",
   "metadata": {},
   "source": [
    "#### 5 Tuples "
   ]
  },
  {
   "cell_type": "code",
   "execution_count": 24,
   "id": "45c04258",
   "metadata": {},
   "outputs": [
    {
     "name": "stdout",
     "output_type": "stream",
     "text": [
      "[1, 2, 3]\n",
      "3\n",
      "1\n",
      "3\n"
     ]
    }
   ],
   "source": [
    "tupl1 = (1, 2, 3)\n",
    "list1 = list(tupl1)\n",
    "print(list1)\n",
    "print(len(list1))\n",
    "print(min(list1))\n",
    "print(max(list1))\n"
   ]
  },
  {
   "cell_type": "markdown",
   "id": "1514b84a",
   "metadata": {},
   "source": [
    "#### 6 dictonaries"
   ]
  },
  {
   "cell_type": "code",
   "execution_count": 11,
   "id": "4cec832e",
   "metadata": {},
   "outputs": [
    {
     "name": "stdout",
     "output_type": "stream",
     "text": [
      "41\n",
      "27\n",
      "dict_keys(['Ashsih', 'Rana', 'Rabbi', 'Nipu'])\n",
      "dict_values([22, 41, 27, 24])\n"
     ]
    }
   ],
   "source": [
    "names = {\n",
    "    'Ashsih' : 22,\n",
    "    'Rana' : 41,\n",
    "    'Rabbi' : 19,\n",
    "    'Nipu' : 24\n",
    "}\n",
    "print(names['Rana'])\n",
    "names['Rabbi'] = 27\n",
    "print(names['Rabbi'])\n",
    "\n",
    "print(names.keys())\n",
    "print(names.values())"
   ]
  },
  {
   "cell_type": "markdown",
   "id": "eb84b9ce",
   "metadata": {},
   "source": [
    "#### 7 if-else statements"
   ]
  },
  {
   "cell_type": "code",
   "execution_count": 13,
   "id": "699fe843",
   "metadata": {},
   "outputs": [
    {
     "name": "stdout",
     "output_type": "stream",
     "text": [
      "enter the marks:40\n",
      "The grade is Don't know😪\n"
     ]
    }
   ],
   "source": [
    "number = int(input(\"enter the marks:\"))\n",
    "if number >= 90:\n",
    "    grade = 'A'\n",
    "elif number> 80:\n",
    "    grade = 'B'\n",
    "else:\n",
    "    grade = \"Don't know😪\"\n",
    "print(\"The grade is\", grade)"
   ]
  },
  {
   "cell_type": "markdown",
   "id": "ad6ef904",
   "metadata": {},
   "source": [
    "#### 8 loops-- for loops"
   ]
  },
  {
   "cell_type": "code",
   "execution_count": 17,
   "id": "f1452fbc",
   "metadata": {},
   "outputs": [
    {
     "name": "stdout",
     "output_type": "stream",
     "text": [
      "How many time do you want to execute: \n",
      "5\n",
      "0\n",
      "1\n",
      "2\n",
      "3\n",
      "4\n",
      "1\n",
      "2\n",
      "3\n",
      "4\n",
      "5\n",
      "6\n",
      "7\n",
      "8\n",
      "9\n"
     ]
    }
   ],
   "source": [
    "print(\"How many time do you want to execute: \")\n",
    "number = int(input())\n",
    "for i in range(0, number):\n",
    "    print(i)\n",
    "list1 =[[1,2,3], [4,5,6], [7,8,9]]\n",
    "    \n",
    "for item in list1:\n",
    "    for i in item:\n",
    "        print(i)"
   ]
  },
  {
   "cell_type": "markdown",
   "id": "2060f433",
   "metadata": {},
   "source": [
    "#### 9 loops -- while looops"
   ]
  },
  {
   "cell_type": "code",
   "execution_count": 39,
   "id": "32597f34",
   "metadata": {},
   "outputs": [
    {
     "name": "stdout",
     "output_type": "stream",
     "text": [
      "Enter the number: \n",
      "6\n",
      "Number is greater than 4\n",
      "7\n",
      "loop ended\n",
      "Number is greater than 4\n",
      "8\n",
      "Number is greater than 4\n",
      "9\n"
     ]
    }
   ],
   "source": [
    "print(\"Enter the number: \")\n",
    "number = int(input())\n",
    "\n",
    "while (number > 4):\n",
    "    print(\"Number is greater than 4\")\n",
    "    number = int(input())\n",
    "    if number == 9:\n",
    "        break\n",
    "    if number == 8:\n",
    "        continue\n",
    "    print(\"loop ended\")"
   ]
  },
  {
   "cell_type": "markdown",
   "id": "dfcd5ffe",
   "metadata": {},
   "source": [
    "#### 10 functions in python:"
   ]
  },
  {
   "cell_type": "code",
   "execution_count": 43,
   "id": "d1754252",
   "metadata": {},
   "outputs": [
    {
     "name": "stdout",
     "output_type": "stream",
     "text": [
      "2.5\n"
     ]
    }
   ],
   "source": [
    "## functions\n",
    "def average(num1, num2):\n",
    "    return(num1+ num2)/2\n",
    "\n",
    "\n",
    "print(average(2,3))"
   ]
  },
  {
   "cell_type": "markdown",
   "id": "db589350",
   "metadata": {},
   "source": [
    "#### 11 string in details"
   ]
  },
  {
   "cell_type": "code",
   "execution_count": 49,
   "id": "d4a2e414",
   "metadata": {},
   "outputs": [
    {
     "name": "stdout",
     "output_type": "stream",
     "text": [
      "th\n",
      "me\n",
      "this is \n",
      "This is me\n",
      "-1\n",
      "thare are me\n"
     ]
    }
   ],
   "source": [
    "# STRINGS\n",
    "string1 = \"this is me\"\n",
    "print(string1[0:2])\n",
    "print(string1[-2:])\n",
    "print(string1[:-2])\n",
    "print(string1.capitalize())\n",
    "print(string1.find(\"this is ashish\"))\n",
    "print(string1.replace(\"is\", \"are\"))"
   ]
  },
  {
   "cell_type": "markdown",
   "id": "84c6fc49",
   "metadata": {},
   "source": [
    "## 12 file handeling in python:"
   ]
  },
  {
   "cell_type": "code",
   "execution_count": 54,
   "id": "2c49ccd9",
   "metadata": {},
   "outputs": [
    {
     "name": "stdout",
     "output_type": "stream",
     "text": [
      "wb\n",
      "wb\n",
      "62\n"
     ]
    }
   ],
   "source": [
    "file1 = open(\"test filep.txt\", \"wb\") \n",
    "print(file1. mode)\n",
    "print(file1.mode)\n",
    "print(file1.write(bytes(\"write this, it is my first txt file that created with python. \", \"UTF-8\")))\n",
    "file1.close()"
   ]
  },
  {
   "cell_type": "markdown",
   "id": "d86ba38e",
   "metadata": {},
   "source": [
    "# 13 Object Oriented programming"
   ]
  },
  {
   "cell_type": "code",
   "execution_count": 1,
   "id": "adada3e1",
   "metadata": {
    "scrolled": false
   },
   "outputs": [
    {
     "name": "stdout",
     "output_type": "stream",
     "text": [
      "ashish\n"
     ]
    }
   ],
   "source": [
    "## object oriented programming\n",
    "class Employee:\n",
    "    name = \"\"\n",
    "    id = \"\"\n",
    "    salary = \"\"\n",
    "    \n",
    "    def set_name(self, name):\n",
    "        self.__name = name\n",
    "        \n",
    "    def get_name(self):\n",
    "        return self.__name \n",
    "        \n",
    "ashish = Employee()\n",
    "ashish.set_name('ashish')\n",
    "print(ashish.get_name())\n"
   ]
  },
  {
   "cell_type": "markdown",
   "id": "6a372aed",
   "metadata": {},
   "source": [
    "#### 14 OOP Topic: class student\n"
   ]
  },
  {
   "cell_type": "code",
   "execution_count": 17,
   "id": "cf11f67f",
   "metadata": {},
   "outputs": [
    {
     "name": "stdout",
     "output_type": "stream",
     "text": [
      "True\n",
      "Roll : 1003, Age : 25, GPA : 3.95 \n",
      "True\n",
      "Roll : 1005, Age : 27, GPA : 3.85 \n"
     ]
    }
   ],
   "source": [
    "class Student:\n",
    "    roll = \"\"\n",
    "    age = \"\"\n",
    "    gpa = \"\"\n",
    "    \n",
    "    \n",
    "rahim = Student()\n",
    "print(isinstance(rahim,Student))\n",
    "rahim.age = 25\n",
    "rahim.gpa = 3.95\n",
    "rahim.roll = 1003\n",
    "print(f\"Roll : {rahim.roll}, Age : {rahim.age}, GPA : {rahim.gpa} \")\n",
    "\n",
    "karim = Student()\n",
    "print(isinstance(rahim,Student))\n",
    "karim.age = 27\n",
    "karim.gpa = 3.85\n",
    "karim.roll = 1005\n",
    "print(f\"Roll : {karim.roll}, Age : {karim.age}, GPA : {karim.gpa} \")"
   ]
  },
  {
   "cell_type": "markdown",
   "id": "4e39d489",
   "metadata": {},
   "source": [
    "#### 15 Basic class object concept : Vaicle"
   ]
  },
  {
   "cell_type": "code",
   "execution_count": 25,
   "id": "473dbefe",
   "metadata": {},
   "outputs": [
    {
     "name": "stdout",
     "output_type": "stream",
     "text": [
      "Bike wheel: 2, Bike speed: 300km, Bike length: 5.3ft\n",
      "\n",
      "\n",
      "ship wheel: no wheel but propeller fan, Ship speed: avg 30 nautical mile, ship length: avg 500 meter /or+ \n"
     ]
    }
   ],
   "source": [
    "class Vaicle:\n",
    "    wheel = \"\"\n",
    "    speed = \"\"\n",
    "    length = \"\"\n",
    "    route = \"\"\n",
    "\n",
    "bike = Vaicle()\n",
    "bike.wheel = 2\n",
    "bike.speed = '300km'\n",
    "bike.length = '5.3ft'\n",
    "bike.route = 'landroad'\n",
    "print(f\"Bike wheel: {bike.wheel}, Bike speed: {bike.speed}, Bike length: {bike.length}\")\n",
    "\n",
    "print(\"\\n\")\n",
    "\n",
    "ship = Vaicle()\n",
    "ship.wheel = \"no wheel but propeller fan\"\n",
    "ship.speed = 'avg 30 nautical mile'\n",
    "ship.length = 'avg 500 meter /or+ '\n",
    "ship.route = 'ocean'\n",
    "print(f\"ship wheel: {ship.wheel}, Ship speed: {ship.speed}, ship length: {ship.length}\")"
   ]
  },
  {
   "cell_type": "code",
   "execution_count": null,
   "id": "77feb68b",
   "metadata": {},
   "outputs": [],
   "source": [
    "salary = int(input(\"Enter your salary: \"))\n",
    "while True:\n",
    "    if salary == \"300000\":\n",
    "        print(\"You are poor. You don't need to pay the tax😎\")\n",
    "    elif\n"
   ]
  }
 ],
 "metadata": {
  "kernelspec": {
   "display_name": "Python 3 (ipykernel)",
   "language": "python",
   "name": "python3"
  },
  "language_info": {
   "codemirror_mode": {
    "name": "ipython",
    "version": 3
   },
   "file_extension": ".py",
   "mimetype": "text/x-python",
   "name": "python",
   "nbconvert_exporter": "python",
   "pygments_lexer": "ipython3",
   "version": "3.11.5"
  }
 },
 "nbformat": 4,
 "nbformat_minor": 5
}
